{
 "cells": [
  {
   "cell_type": "markdown",
   "metadata": {},
   "source": [
    "# WeatherPy\n",
    "----\n",
    "\n",
    "#### Note\n",
    "* Instructions have been included for each segment. You do not have to follow them exactly, but they are included to help you think through the steps."
   ]
  },
  {
   "cell_type": "code",
   "execution_count": 1,
   "metadata": {
    "scrolled": true
   },
   "outputs": [],
   "source": [
    "# Dependencies and Setup\n",
    "import matplotlib.pyplot as plt\n",
    "import pandas as pd\n",
    "import numpy as np\n",
    "import requests\n",
    "import time\n",
    "from scipy.stats import linregress\n",
    "from pprint import pprint\n",
    "\n",
    "# Import API key\n",
    "from api_keys import weather_api_key\n",
    "\n",
    "# Incorporated citipy to determine city based on latitude and longitude\n",
    "from citipy import citipy\n",
    "\n",
    "# Output File (CSV)\n",
    "output_data_file = \"output_data/cities.csv\"\n",
    "\n",
    "# Range of latitudes and longitudes\n",
    "lat_range = (-90, 90)\n",
    "lng_range = (-180, 180)\n"
   ]
  },
  {
   "cell_type": "markdown",
   "metadata": {},
   "source": [
    "## Generate Cities List"
   ]
  },
  {
   "cell_type": "code",
   "execution_count": 2,
   "metadata": {},
   "outputs": [
    {
     "data": {
      "text/plain": [
       "629"
      ]
     },
     "execution_count": 2,
     "metadata": {},
     "output_type": "execute_result"
    }
   ],
   "source": [
    "# List for holding lat_lngs and cities\n",
    "lat_lngs = []\n",
    "cities = []\n",
    "\n",
    "# Create a set of random lat and lng combinations\n",
    "lats = np.random.uniform(lat_range[0], lat_range[1], size=1500)\n",
    "lngs = np.random.uniform(lng_range[0], lng_range[1], size=1500)\n",
    "lat_lngs = zip(lats, lngs)\n",
    "\n",
    "# Identify nearest city for each lat, lng combination\n",
    "for lat_lng in lat_lngs:\n",
    "    city = citipy.nearest_city(lat_lng[0], lat_lng[1]).city_name\n",
    "    \n",
    "    # If the city is unique, then add it to a our cities list\n",
    "    if city not in cities:\n",
    "        cities.append(city)\n",
    "\n",
    "# Print the city count to confirm sufficient count\n",
    "len(cities)"
   ]
  },
  {
   "cell_type": "code",
   "execution_count": 3,
   "metadata": {},
   "outputs": [
    {
     "name": "stdout",
     "output_type": "stream",
     "text": [
      "http://api.openweathermap.org/data/2.5/weather?appid=5ed795c09c212a19bdc0e2a9c1b8965d&q=kodiak\n"
     ]
    }
   ],
   "source": [
    "url = \"http://api.openweathermap.org/data/2.5/weather?\"\n",
    "#city = \"Denver\"\n",
    "\n",
    "query_url= url + \"appid=\" + weather_api_key + \"&q=\" + city\n",
    "print(query_url)\n"
   ]
  },
  {
   "cell_type": "code",
   "execution_count": 4,
   "metadata": {},
   "outputs": [],
   "source": [
    "weather_response = requests.get(query_url)\n",
    "weather_json = weather_response.json()"
   ]
  },
  {
   "cell_type": "code",
   "execution_count": 5,
   "metadata": {},
   "outputs": [
    {
     "name": "stdout",
     "output_type": "stream",
     "text": [
      "{'base': 'stations',\n",
      " 'clouds': {'all': 20},\n",
      " 'cod': 200,\n",
      " 'coord': {'lat': 57.79, 'lon': -152.4072},\n",
      " 'dt': 1611968948,\n",
      " 'id': 5866583,\n",
      " 'main': {'feels_like': 266.51,\n",
      "          'humidity': 64,\n",
      "          'pressure': 990,\n",
      "          'temp': 275.15,\n",
      "          'temp_max': 275.15,\n",
      "          'temp_min': 275.15},\n",
      " 'name': 'Saint Paul Harbor',\n",
      " 'sys': {'country': 'US',\n",
      "         'id': 7668,\n",
      "         'sunrise': 1611944247,\n",
      "         'sunset': 1611973684,\n",
      "         'type': 1},\n",
      " 'timezone': -32400,\n",
      " 'visibility': 10000,\n",
      " 'weather': [{'description': 'few clouds',\n",
      "              'icon': '02d',\n",
      "              'id': 801,\n",
      "              'main': 'Clouds'}],\n",
      " 'wind': {'deg': 290, 'gust': 12.86, 'speed': 8.75}}\n"
     ]
    }
   ],
   "source": [
    "pprint(weather_json)"
   ]
  },
  {
   "cell_type": "markdown",
   "metadata": {},
   "source": [
    "### Perform API Calls\n",
    "* Perform a weather check on each city using a series of successive API calls.\n",
    "* Include a print log of each city as it'sbeing processed (with the city number and city name).\n"
   ]
  },
  {
   "cell_type": "code",
   "execution_count": 6,
   "metadata": {
    "scrolled": true
   },
   "outputs": [
    {
     "name": "stdout",
     "output_type": "stream",
     "text": [
      "Processing record number 1 for the city of bethel\n",
      "Processing record number 2 for the city of geraldton\n",
      "Processing record number 3 for the city of bredasdorp\n",
      "Processing record number 4 for the city of lasa\n",
      "Processing record number 5 for the city of darhan\n",
      "Processing record number 6 for the city of kassala\n",
      "Processing record number 7 for the city of port alfred\n",
      "Processing record number 8 for the city of faanui\n",
      "Processing record number 9 for the city of zhezkazgan\n",
      "Processing record number 10 for the city of busselton\n",
      "Processing record number 11 for the city of albany\n",
      "Processing record number 12 for the city of constitucion\n",
      "Processing record number 13 for the city of severo-kurilsk\n",
      "Processing record number 14 for the city of puerto ayora\n",
      "Processing record number 15 for the city of saint george\n",
      "Processing record number 16 for the city of atuona\n",
      "Processing record number 17 for the city of new norfolk\n",
      "Processing record number 18 for the city of bulungu\n",
      "Skipping City\n",
      "Processing record number 19 for the city of rikitea\n",
      "Processing record number 20 for the city of souillac\n",
      "Processing record number 21 for the city of airai\n",
      "Processing record number 22 for the city of nome\n",
      "Processing record number 23 for the city of bluff\n",
      "Skipping City\n",
      "Processing record number 24 for the city of dustlik\n",
      "Processing record number 25 for the city of lagoa\n",
      "Processing record number 26 for the city of east london\n",
      "Processing record number 27 for the city of kenai\n",
      "Skipping City\n",
      "Processing record number 28 for the city of namibe\n",
      "Processing record number 29 for the city of nikolskoye\n",
      "Processing record number 30 for the city of severodvinsk\n",
      "Processing record number 31 for the city of tuktoyaktuk\n",
      "Processing record number 32 for the city of eyl\n",
      "Processing record number 33 for the city of gweta\n",
      "Processing record number 34 for the city of bereda\n",
      "Processing record number 35 for the city of sechura\n",
      "Processing record number 36 for the city of ponta do sol\n",
      "Processing record number 37 for the city of yuncheng\n",
      "Processing record number 38 for the city of avarua\n",
      "Processing record number 39 for the city of ceamurlia de jos\n",
      "Processing record number 40 for the city of ulaanbaatar\n",
      "Processing record number 41 for the city of veraval\n",
      "Processing record number 42 for the city of ayan\n",
      "Skipping City\n",
      "Processing record number 43 for the city of kodiak\n",
      "Processing record number 44 for the city of saint-philippe\n",
      "Skipping City\n",
      "Processing record number 45 for the city of lebu\n",
      "Processing record number 46 for the city of shahrud\n",
      "Processing record number 47 for the city of ninghai\n",
      "Processing record number 48 for the city of nizwa\n",
      "Processing record number 49 for the city of cape town\n",
      "Processing record number 50 for the city of mataura\n",
      "Processing record number 51 for the city of punta arenas\n",
      "Processing record number 52 for the city of roebourne\n",
      "Processing record number 53 for the city of san julian\n",
      "Processing record number 54 for the city of tasiilaq\n",
      "Processing record number 55 for the city of vardo\n",
      "Processing record number 56 for the city of ushuaia\n",
      "Processing record number 57 for the city of san patricio\n",
      "Processing record number 58 for the city of upernavik\n",
      "Processing record number 59 for the city of sao filipe\n",
      "Processing record number 60 for the city of arman\n",
      "Processing record number 61 for the city of vredendal\n",
      "Processing record number 62 for the city of magnor\n",
      "Skipping City\n",
      "Skipping City\n",
      "Processing record number 63 for the city of fukuma\n",
      "Processing record number 64 for the city of mar del plata\n",
      "Processing record number 65 for the city of labe\n",
      "Processing record number 66 for the city of yellowknife\n",
      "Processing record number 67 for the city of nouadhibou\n",
      "Processing record number 68 for the city of lata\n",
      "Processing record number 69 for the city of oistins\n",
      "Processing record number 70 for the city of swellendam\n",
      "Processing record number 71 for the city of thompson\n",
      "Skipping City\n",
      "Processing record number 72 for the city of presidencia roque saenz pena\n",
      "Processing record number 73 for the city of dunedin\n",
      "Processing record number 74 for the city of dikson\n",
      "Processing record number 75 for the city of kapaa\n",
      "Processing record number 76 for the city of broome\n",
      "Processing record number 77 for the city of port hardy\n",
      "Skipping City\n",
      "Processing record number 78 for the city of mahajanga\n",
      "Processing record number 79 for the city of zakamensk\n",
      "Processing record number 80 for the city of misratah\n",
      "Processing record number 81 for the city of homer\n",
      "Processing record number 82 for the city of durgapur\n",
      "Processing record number 83 for the city of san cristobal\n",
      "Processing record number 84 for the city of vaini\n",
      "Processing record number 85 for the city of ruteng\n",
      "Processing record number 86 for the city of bengkulu\n",
      "Processing record number 87 for the city of grindavik\n",
      "Processing record number 88 for the city of dali\n",
      "Processing record number 89 for the city of aklavik\n",
      "Processing record number 90 for the city of goma\n",
      "Processing record number 91 for the city of hermanus\n"
     ]
    }
   ],
   "source": [
    "#lat = []\n",
    "#long = []\n",
    "#City\tLat\tLng\tMax Temp\tHumidity\tCloudiness\tWind Speed\tCountry\tDate\n",
    "\n",
    "city_data=[]\n",
    "lat_data=[]\n",
    "lng_data=[]\n",
    "max_temp_data=[]\n",
    "humidity_data=[]\n",
    "cloudiness_data=[]\n",
    "wind_speed_data=[]\n",
    "country_data=[]\n",
    "date_data=[]\n",
    "\n",
    "counter = 0\n",
    "\n",
    "#while len(city_data) <=15: \n",
    "for each_city in cities[:100]:\n",
    "    query_url = f'{url}q={each_city}&appid={weather_api_key}'#rpl each_cities cities[counter]\n",
    "    weather_response=requests.get(query_url)\n",
    "    weather_data=weather_response.json()\n",
    "    #pprint(weather_data)\n",
    "    counter = counter + 1\n",
    " \n",
    "    try:\n",
    "        city_data.append(weather_data['name'])\n",
    "        lat_data.append(weather_data['coord']['lat'])\n",
    "        lng_data.append(weather_data['coord']['lon'])\n",
    "        max_temp_data.append(weather_data['main']['temp_max'])\n",
    "        humidity_data.append(weather_data['main']['humidity'])\n",
    "        cloudiness_data.append(weather_data['clouds']['all'])\n",
    "        wind_speed_data.append(weather_data['wind']['speed'])\n",
    "        country_data.append(weather_data['sys']['country'])\n",
    "        date_data.append(weather_data['dt'])\n",
    "        print(f'Processing record number {len(city_data)} for the city of {each_city}')\n",
    "        \n",
    "        \n",
    "    except:\n",
    "        print('Skipping City')\n",
    "        pass\n",
    "    \n",
    "    \n",
    "    #print(lat_data)"
   ]
  },
  {
   "cell_type": "markdown",
   "metadata": {},
   "source": [
    "### Convert Raw Data to DataFrame\n",
    "* Export the city data into a .csv.\n",
    "* Display the DataFrame"
   ]
  },
  {
   "cell_type": "code",
   "execution_count": 7,
   "metadata": {},
   "outputs": [
    {
     "data": {
      "text/html": [
       "<div>\n",
       "<style scoped>\n",
       "    .dataframe tbody tr th:only-of-type {\n",
       "        vertical-align: middle;\n",
       "    }\n",
       "\n",
       "    .dataframe tbody tr th {\n",
       "        vertical-align: top;\n",
       "    }\n",
       "\n",
       "    .dataframe thead th {\n",
       "        text-align: right;\n",
       "    }\n",
       "</style>\n",
       "<table border=\"1\" class=\"dataframe\">\n",
       "  <thead>\n",
       "    <tr style=\"text-align: right;\">\n",
       "      <th></th>\n",
       "      <th>City</th>\n",
       "      <th>Latitude</th>\n",
       "      <th>Longitude</th>\n",
       "      <th>Max Temp</th>\n",
       "      <th>Humidity</th>\n",
       "      <th>Cloudiness</th>\n",
       "      <th>Wind Speed</th>\n",
       "      <th>Country</th>\n",
       "      <th>Data</th>\n",
       "    </tr>\n",
       "  </thead>\n",
       "  <tbody>\n",
       "    <tr>\n",
       "      <th>0</th>\n",
       "      <td>Bethel</td>\n",
       "      <td>41.3712</td>\n",
       "      <td>-73.4140</td>\n",
       "      <td>264.26</td>\n",
       "      <td>48</td>\n",
       "      <td>1</td>\n",
       "      <td>4.12</td>\n",
       "      <td>US</td>\n",
       "      <td>1611968959</td>\n",
       "    </tr>\n",
       "    <tr>\n",
       "      <th>1</th>\n",
       "      <td>Geraldton</td>\n",
       "      <td>-28.7667</td>\n",
       "      <td>114.6000</td>\n",
       "      <td>305.15</td>\n",
       "      <td>22</td>\n",
       "      <td>0</td>\n",
       "      <td>11.83</td>\n",
       "      <td>AU</td>\n",
       "      <td>1611968959</td>\n",
       "    </tr>\n",
       "    <tr>\n",
       "      <th>2</th>\n",
       "      <td>Bredasdorp</td>\n",
       "      <td>-34.5322</td>\n",
       "      <td>20.0403</td>\n",
       "      <td>292.85</td>\n",
       "      <td>78</td>\n",
       "      <td>91</td>\n",
       "      <td>2.00</td>\n",
       "      <td>ZA</td>\n",
       "      <td>1611968865</td>\n",
       "    </tr>\n",
       "    <tr>\n",
       "      <th>3</th>\n",
       "      <td>Laas</td>\n",
       "      <td>46.6166</td>\n",
       "      <td>10.7002</td>\n",
       "      <td>273.71</td>\n",
       "      <td>93</td>\n",
       "      <td>90</td>\n",
       "      <td>2.64</td>\n",
       "      <td>IT</td>\n",
       "      <td>1611968960</td>\n",
       "    </tr>\n",
       "    <tr>\n",
       "      <th>4</th>\n",
       "      <td>Darhan</td>\n",
       "      <td>49.4867</td>\n",
       "      <td>105.9228</td>\n",
       "      <td>256.55</td>\n",
       "      <td>92</td>\n",
       "      <td>100</td>\n",
       "      <td>0.62</td>\n",
       "      <td>MN</td>\n",
       "      <td>1611968960</td>\n",
       "    </tr>\n",
       "    <tr>\n",
       "      <th>5</th>\n",
       "      <td>Kassala</td>\n",
       "      <td>15.4510</td>\n",
       "      <td>36.4000</td>\n",
       "      <td>291.70</td>\n",
       "      <td>92</td>\n",
       "      <td>0</td>\n",
       "      <td>3.32</td>\n",
       "      <td>SD</td>\n",
       "      <td>1611968960</td>\n",
       "    </tr>\n",
       "    <tr>\n",
       "      <th>6</th>\n",
       "      <td>Port Alfred</td>\n",
       "      <td>-33.5906</td>\n",
       "      <td>26.8910</td>\n",
       "      <td>291.48</td>\n",
       "      <td>87</td>\n",
       "      <td>1</td>\n",
       "      <td>0.89</td>\n",
       "      <td>ZA</td>\n",
       "      <td>1611968960</td>\n",
       "    </tr>\n",
       "    <tr>\n",
       "      <th>7</th>\n",
       "      <td>Faanui</td>\n",
       "      <td>-16.4833</td>\n",
       "      <td>-151.7500</td>\n",
       "      <td>300.20</td>\n",
       "      <td>67</td>\n",
       "      <td>100</td>\n",
       "      <td>1.67</td>\n",
       "      <td>PF</td>\n",
       "      <td>1611968960</td>\n",
       "    </tr>\n",
       "    <tr>\n",
       "      <th>8</th>\n",
       "      <td>Zhezkazgan</td>\n",
       "      <td>47.8043</td>\n",
       "      <td>67.7144</td>\n",
       "      <td>262.56</td>\n",
       "      <td>93</td>\n",
       "      <td>100</td>\n",
       "      <td>5.11</td>\n",
       "      <td>KZ</td>\n",
       "      <td>1611968960</td>\n",
       "    </tr>\n",
       "    <tr>\n",
       "      <th>9</th>\n",
       "      <td>Busselton</td>\n",
       "      <td>-33.6500</td>\n",
       "      <td>115.3333</td>\n",
       "      <td>296.48</td>\n",
       "      <td>58</td>\n",
       "      <td>0</td>\n",
       "      <td>2.68</td>\n",
       "      <td>AU</td>\n",
       "      <td>1611968777</td>\n",
       "    </tr>\n",
       "  </tbody>\n",
       "</table>\n",
       "</div>"
      ],
      "text/plain": [
       "          City  Latitude  Longitude  Max Temp  Humidity  Cloudiness  \\\n",
       "0       Bethel   41.3712   -73.4140    264.26        48           1   \n",
       "1    Geraldton  -28.7667   114.6000    305.15        22           0   \n",
       "2   Bredasdorp  -34.5322    20.0403    292.85        78          91   \n",
       "3         Laas   46.6166    10.7002    273.71        93          90   \n",
       "4       Darhan   49.4867   105.9228    256.55        92         100   \n",
       "5      Kassala   15.4510    36.4000    291.70        92           0   \n",
       "6  Port Alfred  -33.5906    26.8910    291.48        87           1   \n",
       "7       Faanui  -16.4833  -151.7500    300.20        67         100   \n",
       "8   Zhezkazgan   47.8043    67.7144    262.56        93         100   \n",
       "9    Busselton  -33.6500   115.3333    296.48        58           0   \n",
       "\n",
       "   Wind Speed Country        Data  \n",
       "0        4.12      US  1611968959  \n",
       "1       11.83      AU  1611968959  \n",
       "2        2.00      ZA  1611968865  \n",
       "3        2.64      IT  1611968960  \n",
       "4        0.62      MN  1611968960  \n",
       "5        3.32      SD  1611968960  \n",
       "6        0.89      ZA  1611968960  \n",
       "7        1.67      PF  1611968960  \n",
       "8        5.11      KZ  1611968960  \n",
       "9        2.68      AU  1611968777  "
      ]
     },
     "execution_count": 7,
     "metadata": {},
     "output_type": "execute_result"
    }
   ],
   "source": [
    "data_df = pd.DataFrame({'City': city_data,\n",
    "                        'Latitude': lat_data,\n",
    "                        'Longitude': lng_data,\n",
    "                        'Max Temp': max_temp_data,\n",
    "                        'Humidity': humidity_data,\n",
    "                        'Cloudiness': cloudiness_data,\n",
    "                        'Wind Speed': wind_speed_data,\n",
    "                        'Country': country_data,\n",
    "                        'Data': date_data})\n",
    "\n",
    "\n",
    "data_df.head(10)"
   ]
  },
  {
   "cell_type": "code",
   "execution_count": 8,
   "metadata": {},
   "outputs": [],
   "source": [
    "data_df.to_csv('..\\output_data\\WeatherPY.csv')\n"
   ]
  },
  {
   "cell_type": "code",
   "execution_count": 9,
   "metadata": {},
   "outputs": [
    {
     "data": {
      "text/html": [
       "<div>\n",
       "<style scoped>\n",
       "    .dataframe tbody tr th:only-of-type {\n",
       "        vertical-align: middle;\n",
       "    }\n",
       "\n",
       "    .dataframe tbody tr th {\n",
       "        vertical-align: top;\n",
       "    }\n",
       "\n",
       "    .dataframe thead th {\n",
       "        text-align: right;\n",
       "    }\n",
       "</style>\n",
       "<table border=\"1\" class=\"dataframe\">\n",
       "  <thead>\n",
       "    <tr style=\"text-align: right;\">\n",
       "      <th></th>\n",
       "      <th>Latitude</th>\n",
       "      <th>Longitude</th>\n",
       "      <th>Max Temp</th>\n",
       "      <th>Humidity</th>\n",
       "      <th>Cloudiness</th>\n",
       "      <th>Wind Speed</th>\n",
       "      <th>Data</th>\n",
       "    </tr>\n",
       "  </thead>\n",
       "  <tbody>\n",
       "    <tr>\n",
       "      <th>count</th>\n",
       "      <td>91.000000</td>\n",
       "      <td>91.000000</td>\n",
       "      <td>91.000000</td>\n",
       "      <td>91.000000</td>\n",
       "      <td>91.000000</td>\n",
       "      <td>91.000000</td>\n",
       "      <td>9.100000e+01</td>\n",
       "    </tr>\n",
       "    <tr>\n",
       "      <th>mean</th>\n",
       "      <td>14.839551</td>\n",
       "      <td>0.977527</td>\n",
       "      <td>281.740989</td>\n",
       "      <td>74.120879</td>\n",
       "      <td>53.329670</td>\n",
       "      <td>3.800549</td>\n",
       "      <td>1.611969e+09</td>\n",
       "    </tr>\n",
       "    <tr>\n",
       "      <th>std</th>\n",
       "      <td>38.058229</td>\n",
       "      <td>95.446904</td>\n",
       "      <td>17.132779</td>\n",
       "      <td>16.785467</td>\n",
       "      <td>41.137184</td>\n",
       "      <td>2.959351</td>\n",
       "      <td>6.161755e+01</td>\n",
       "    </tr>\n",
       "    <tr>\n",
       "      <th>min</th>\n",
       "      <td>-54.800000</td>\n",
       "      <td>-175.200000</td>\n",
       "      <td>235.150000</td>\n",
       "      <td>22.000000</td>\n",
       "      <td>0.000000</td>\n",
       "      <td>0.300000</td>\n",
       "      <td>1.611969e+09</td>\n",
       "    </tr>\n",
       "    <tr>\n",
       "      <th>25%</th>\n",
       "      <td>-20.991650</td>\n",
       "      <td>-73.532000</td>\n",
       "      <td>272.040000</td>\n",
       "      <td>65.500000</td>\n",
       "      <td>7.500000</td>\n",
       "      <td>1.445000</td>\n",
       "      <td>1.611969e+09</td>\n",
       "    </tr>\n",
       "    <tr>\n",
       "      <th>50%</th>\n",
       "      <td>21.016700</td>\n",
       "      <td>18.423200</td>\n",
       "      <td>287.590000</td>\n",
       "      <td>77.000000</td>\n",
       "      <td>50.000000</td>\n",
       "      <td>2.700000</td>\n",
       "      <td>1.611969e+09</td>\n",
       "    </tr>\n",
       "    <tr>\n",
       "      <th>75%</th>\n",
       "      <td>47.856000</td>\n",
       "      <td>69.201250</td>\n",
       "      <td>294.250000</td>\n",
       "      <td>84.500000</td>\n",
       "      <td>92.500000</td>\n",
       "      <td>5.180000</td>\n",
       "      <td>1.611969e+09</td>\n",
       "    </tr>\n",
       "    <tr>\n",
       "      <th>max</th>\n",
       "      <td>73.506900</td>\n",
       "      <td>170.503600</td>\n",
       "      <td>305.150000</td>\n",
       "      <td>100.000000</td>\n",
       "      <td>100.000000</td>\n",
       "      <td>12.860000</td>\n",
       "      <td>1.611969e+09</td>\n",
       "    </tr>\n",
       "  </tbody>\n",
       "</table>\n",
       "</div>"
      ],
      "text/plain": [
       "        Latitude   Longitude    Max Temp    Humidity  Cloudiness  Wind Speed  \\\n",
       "count  91.000000   91.000000   91.000000   91.000000   91.000000   91.000000   \n",
       "mean   14.839551    0.977527  281.740989   74.120879   53.329670    3.800549   \n",
       "std    38.058229   95.446904   17.132779   16.785467   41.137184    2.959351   \n",
       "min   -54.800000 -175.200000  235.150000   22.000000    0.000000    0.300000   \n",
       "25%   -20.991650  -73.532000  272.040000   65.500000    7.500000    1.445000   \n",
       "50%    21.016700   18.423200  287.590000   77.000000   50.000000    2.700000   \n",
       "75%    47.856000   69.201250  294.250000   84.500000   92.500000    5.180000   \n",
       "max    73.506900  170.503600  305.150000  100.000000  100.000000   12.860000   \n",
       "\n",
       "               Data  \n",
       "count  9.100000e+01  \n",
       "mean   1.611969e+09  \n",
       "std    6.161755e+01  \n",
       "min    1.611969e+09  \n",
       "25%    1.611969e+09  \n",
       "50%    1.611969e+09  \n",
       "75%    1.611969e+09  \n",
       "max    1.611969e+09  "
      ]
     },
     "execution_count": 9,
     "metadata": {},
     "output_type": "execute_result"
    }
   ],
   "source": [
    "data_df.describe()"
   ]
  },
  {
   "cell_type": "markdown",
   "metadata": {},
   "source": [
    "## Inspect the data and remove the cities where the humidity > 100%.\n",
    "----\n",
    "Skip this step if there are no cities that have humidity > 100%. "
   ]
  },
  {
   "cell_type": "code",
   "execution_count": 10,
   "metadata": {},
   "outputs": [
    {
     "data": {
      "text/html": [
       "<div>\n",
       "<style scoped>\n",
       "    .dataframe tbody tr th:only-of-type {\n",
       "        vertical-align: middle;\n",
       "    }\n",
       "\n",
       "    .dataframe tbody tr th {\n",
       "        vertical-align: top;\n",
       "    }\n",
       "\n",
       "    .dataframe thead th {\n",
       "        text-align: right;\n",
       "    }\n",
       "</style>\n",
       "<table border=\"1\" class=\"dataframe\">\n",
       "  <thead>\n",
       "    <tr style=\"text-align: right;\">\n",
       "      <th></th>\n",
       "      <th>Latitude</th>\n",
       "      <th>Longitude</th>\n",
       "      <th>Max Temp</th>\n",
       "      <th>Humidity</th>\n",
       "      <th>Cloudiness</th>\n",
       "      <th>Wind Speed</th>\n",
       "      <th>Data</th>\n",
       "    </tr>\n",
       "  </thead>\n",
       "  <tbody>\n",
       "    <tr>\n",
       "      <th>count</th>\n",
       "      <td>91.000000</td>\n",
       "      <td>91.000000</td>\n",
       "      <td>91.000000</td>\n",
       "      <td>91.000000</td>\n",
       "      <td>91.000000</td>\n",
       "      <td>91.000000</td>\n",
       "      <td>9.100000e+01</td>\n",
       "    </tr>\n",
       "    <tr>\n",
       "      <th>mean</th>\n",
       "      <td>14.839551</td>\n",
       "      <td>0.977527</td>\n",
       "      <td>281.740989</td>\n",
       "      <td>74.120879</td>\n",
       "      <td>53.329670</td>\n",
       "      <td>3.800549</td>\n",
       "      <td>1.611969e+09</td>\n",
       "    </tr>\n",
       "    <tr>\n",
       "      <th>std</th>\n",
       "      <td>38.058229</td>\n",
       "      <td>95.446904</td>\n",
       "      <td>17.132779</td>\n",
       "      <td>16.785467</td>\n",
       "      <td>41.137184</td>\n",
       "      <td>2.959351</td>\n",
       "      <td>6.161755e+01</td>\n",
       "    </tr>\n",
       "    <tr>\n",
       "      <th>min</th>\n",
       "      <td>-54.800000</td>\n",
       "      <td>-175.200000</td>\n",
       "      <td>235.150000</td>\n",
       "      <td>22.000000</td>\n",
       "      <td>0.000000</td>\n",
       "      <td>0.300000</td>\n",
       "      <td>1.611969e+09</td>\n",
       "    </tr>\n",
       "    <tr>\n",
       "      <th>25%</th>\n",
       "      <td>-20.991650</td>\n",
       "      <td>-73.532000</td>\n",
       "      <td>272.040000</td>\n",
       "      <td>65.500000</td>\n",
       "      <td>7.500000</td>\n",
       "      <td>1.445000</td>\n",
       "      <td>1.611969e+09</td>\n",
       "    </tr>\n",
       "    <tr>\n",
       "      <th>50%</th>\n",
       "      <td>21.016700</td>\n",
       "      <td>18.423200</td>\n",
       "      <td>287.590000</td>\n",
       "      <td>77.000000</td>\n",
       "      <td>50.000000</td>\n",
       "      <td>2.700000</td>\n",
       "      <td>1.611969e+09</td>\n",
       "    </tr>\n",
       "    <tr>\n",
       "      <th>75%</th>\n",
       "      <td>47.856000</td>\n",
       "      <td>69.201250</td>\n",
       "      <td>294.250000</td>\n",
       "      <td>84.500000</td>\n",
       "      <td>92.500000</td>\n",
       "      <td>5.180000</td>\n",
       "      <td>1.611969e+09</td>\n",
       "    </tr>\n",
       "    <tr>\n",
       "      <th>max</th>\n",
       "      <td>73.506900</td>\n",
       "      <td>170.503600</td>\n",
       "      <td>305.150000</td>\n",
       "      <td>100.000000</td>\n",
       "      <td>100.000000</td>\n",
       "      <td>12.860000</td>\n",
       "      <td>1.611969e+09</td>\n",
       "    </tr>\n",
       "  </tbody>\n",
       "</table>\n",
       "</div>"
      ],
      "text/plain": [
       "        Latitude   Longitude    Max Temp    Humidity  Cloudiness  Wind Speed  \\\n",
       "count  91.000000   91.000000   91.000000   91.000000   91.000000   91.000000   \n",
       "mean   14.839551    0.977527  281.740989   74.120879   53.329670    3.800549   \n",
       "std    38.058229   95.446904   17.132779   16.785467   41.137184    2.959351   \n",
       "min   -54.800000 -175.200000  235.150000   22.000000    0.000000    0.300000   \n",
       "25%   -20.991650  -73.532000  272.040000   65.500000    7.500000    1.445000   \n",
       "50%    21.016700   18.423200  287.590000   77.000000   50.000000    2.700000   \n",
       "75%    47.856000   69.201250  294.250000   84.500000   92.500000    5.180000   \n",
       "max    73.506900  170.503600  305.150000  100.000000  100.000000   12.860000   \n",
       "\n",
       "               Data  \n",
       "count  9.100000e+01  \n",
       "mean   1.611969e+09  \n",
       "std    6.161755e+01  \n",
       "min    1.611969e+09  \n",
       "25%    1.611969e+09  \n",
       "50%    1.611969e+09  \n",
       "75%    1.611969e+09  \n",
       "max    1.611969e+09  "
      ]
     },
     "execution_count": 10,
     "metadata": {},
     "output_type": "execute_result"
    }
   ],
   "source": [
    "humidity_filter=data_df.loc[:,'Humidity']<=100\n",
    "filter_data_df=data_df.loc[humidity_filter,:]\n",
    "filter_data_df.describe()                            "
   ]
  },
  {
   "cell_type": "code",
   "execution_count": 11,
   "metadata": {},
   "outputs": [
    {
     "data": {
      "text/plain": [
       "Int64Index([], dtype='int64')"
      ]
     },
     "execution_count": 11,
     "metadata": {},
     "output_type": "execute_result"
    }
   ],
   "source": [
    "#  Get the indices of cities that have humidity over 100%.\n",
    "humidity_over_filter=data_df.loc[:,'Humidity']>100\n",
    "filter_over_df=data_df.loc[humidity_over_filter, :]\n",
    "list(filter_over_df.index)\n",
    "filter_over_df.index"
   ]
  },
  {
   "cell_type": "code",
   "execution_count": 12,
   "metadata": {},
   "outputs": [],
   "source": [
    "# Make a new DataFrame equal to the city data to drop all humidity outliers by index.\n",
    "# Passing \"inplace=False\" will make a copy of the city_data DataFrame, which we call \"clean_city_data\".\n"
   ]
  },
  {
   "cell_type": "markdown",
   "metadata": {},
   "source": [
    "## Plotting the Data\n",
    "* Use proper labeling of the plots using plot titles (including date of analysis) and axes labels.\n",
    "* Save the plotted figures as .pngs."
   ]
  },
  {
   "cell_type": "markdown",
   "metadata": {},
   "source": [
    "## Latitude vs. Temperature Plot"
   ]
  },
  {
   "cell_type": "code",
   "execution_count": 13,
   "metadata": {},
   "outputs": [
    {
     "data": {
      "image/png": "[encoded data removed]",
      "text/plain": [
       "<Figure size 432x288 with 1 Axes>"
      ]
     },
     "metadata": {
      "needs_background": "light"
     },
     "output_type": "display_data"
    }
   ],
   "source": [
    "x_lat=filter_data_df['Latitude']\n",
    "y_maxtemp = filter_data_df['Max Temp']\n",
    "\n",
    "plt.scatter(x_lat, y_maxtemp,)\n",
    "plt.title('City Latitude vs. Max Temperature')\n",
    "plt.xlabel('Latitude')\n",
    "plt.ylabel (\"Max Temp\")\n",
    "plt.grid(True)"
   ]
  },
  {
   "cell_type": "markdown",
   "metadata": {},
   "source": [
    "## Latitude vs. Humidity Plot"
   ]
  },
  {
   "cell_type": "code",
   "execution_count": 14,
   "metadata": {},
   "outputs": [
    {
     "data": {
      "image/png": "[encoded data removed]",
      "text/plain": [
       "<Figure size 432x288 with 1 Axes>"
      ]
     },
     "metadata": {
      "needs_background": "light"
     },
     "output_type": "display_data"
    }
   ],
   "source": [
    "x_lat=filter_data_df['Latitude']\n",
    "y_humidity = filter_data_df['Humidity']\n",
    "\n",
    "plt.scatter(x_lat, y_humidity,)\n",
    "plt.title('City Latitude vs. Humidity')\n",
    "plt.xlabel('Latitude')\n",
    "plt.ylabel (\"Humidity\")\n",
    "plt.grid(True)"
   ]
  },
  {
   "cell_type": "markdown",
   "metadata": {},
   "source": [
    "## Latitude vs. Cloudiness Plot"
   ]
  },
  {
   "cell_type": "code",
   "execution_count": 15,
   "metadata": {},
   "outputs": [
    {
     "data": {
      "image/png": "[encoded data removed]",
      "text/plain": [
       "<Figure size 432x288 with 1 Axes>"
      ]
     },
     "metadata": {
      "needs_background": "light"
     },
     "output_type": "display_data"
    }
   ],
   "source": [
    "x_lat=filter_data_df['Latitude']\n",
    "y_clouds = filter_data_df['Cloudiness']\n",
    "\n",
    "plt.scatter(x_lat, y_clouds,)\n",
    "plt.title('City Latitude vs. Cloudiness')\n",
    "plt.xlabel('Latitude')\n",
    "plt.ylabel (\"Cloudiness\")\n",
    "plt.grid(True)"
   ]
  },
  {
   "cell_type": "markdown",
   "metadata": {},
   "source": [
    "## Latitude vs. Wind Speed Plot"
   ]
  },
  {
   "cell_type": "code",
   "execution_count": 16,
   "metadata": {},
   "outputs": [
    {
     "data": {
      "image/png": "[encoded data removed]",
      "text/plain": [
       "<Figure size 432x288 with 1 Axes>"
      ]
     },
     "metadata": {
      "needs_background": "light"
     },
     "output_type": "display_data"
    }
   ],
   "source": [
    "x_lat=filter_data_df['Latitude']\n",
    "y_wind = filter_data_df['Wind Speed']\n",
    "\n",
    "plt.scatter(x_lat, y_wind,)\n",
    "plt.title('City Latitude vs. Wind Speed')\n",
    "plt.xlabel('Latitude')\n",
    "plt.ylabel (\"Wind Speed\")\n",
    "plt.grid(True)"
   ]
  },
  {
   "cell_type": "code",
   "execution_count": 17,
   "metadata": {},
   "outputs": [
    {
     "data": {
      "text/html": [
       "<div>\n",
       "<style scoped>\n",
       "    .dataframe tbody tr th:only-of-type {\n",
       "        vertical-align: middle;\n",
       "    }\n",
       "\n",
       "    .dataframe tbody tr th {\n",
       "        vertical-align: top;\n",
       "    }\n",
       "\n",
       "    .dataframe thead th {\n",
       "        text-align: right;\n",
       "    }\n",
       "</style>\n",
       "<table border=\"1\" class=\"dataframe\">\n",
       "  <thead>\n",
       "    <tr style=\"text-align: right;\">\n",
       "      <th></th>\n",
       "      <th>Latitude</th>\n",
       "      <th>Longitude</th>\n",
       "      <th>Max Temp</th>\n",
       "      <th>Humidity</th>\n",
       "      <th>Cloudiness</th>\n",
       "      <th>Wind Speed</th>\n",
       "      <th>Data</th>\n",
       "    </tr>\n",
       "  </thead>\n",
       "  <tbody>\n",
       "    <tr>\n",
       "      <th>count</th>\n",
       "      <td>54.000000</td>\n",
       "      <td>54.000000</td>\n",
       "      <td>54.000000</td>\n",
       "      <td>54.000000</td>\n",
       "      <td>54.000000</td>\n",
       "      <td>54.000000</td>\n",
       "      <td>5.400000e+01</td>\n",
       "    </tr>\n",
       "    <tr>\n",
       "      <th>mean</th>\n",
       "      <td>42.862191</td>\n",
       "      <td>-5.964633</td>\n",
       "      <td>273.028333</td>\n",
       "      <td>72.888889</td>\n",
       "      <td>56.037037</td>\n",
       "      <td>4.049074</td>\n",
       "      <td>1.611969e+09</td>\n",
       "    </tr>\n",
       "    <tr>\n",
       "      <th>std</th>\n",
       "      <td>18.537006</td>\n",
       "      <td>92.850997</td>\n",
       "      <td>16.843609</td>\n",
       "      <td>17.436317</td>\n",
       "      <td>40.747711</td>\n",
       "      <td>2.925660</td>\n",
       "      <td>5.744741e+01</td>\n",
       "    </tr>\n",
       "    <tr>\n",
       "      <th>min</th>\n",
       "      <td>7.766900</td>\n",
       "      <td>-165.406400</td>\n",
       "      <td>235.150000</td>\n",
       "      <td>27.000000</td>\n",
       "      <td>0.000000</td>\n",
       "      <td>0.300000</td>\n",
       "      <td>1.611969e+09</td>\n",
       "    </tr>\n",
       "    <tr>\n",
       "      <th>25%</th>\n",
       "      <td>28.335050</td>\n",
       "      <td>-75.366300</td>\n",
       "      <td>262.040000</td>\n",
       "      <td>64.000000</td>\n",
       "      <td>17.750000</td>\n",
       "      <td>1.625000</td>\n",
       "      <td>1.611969e+09</td>\n",
       "    </tr>\n",
       "    <tr>\n",
       "      <th>50%</th>\n",
       "      <td>42.934350</td>\n",
       "      <td>-7.936650</td>\n",
       "      <td>275.150000</td>\n",
       "      <td>76.500000</td>\n",
       "      <td>75.000000</td>\n",
       "      <td>3.560000</td>\n",
       "      <td>1.611969e+09</td>\n",
       "    </tr>\n",
       "    <tr>\n",
       "      <th>75%</th>\n",
       "      <td>59.685625</td>\n",
       "      <td>67.955450</td>\n",
       "      <td>287.452500</td>\n",
       "      <td>84.750000</td>\n",
       "      <td>96.250000</td>\n",
       "      <td>5.620000</td>\n",
       "      <td>1.611969e+09</td>\n",
       "    </tr>\n",
       "    <tr>\n",
       "      <th>max</th>\n",
       "      <td>73.506900</td>\n",
       "      <td>156.125000</td>\n",
       "      <td>299.150000</td>\n",
       "      <td>100.000000</td>\n",
       "      <td>100.000000</td>\n",
       "      <td>12.860000</td>\n",
       "      <td>1.611969e+09</td>\n",
       "    </tr>\n",
       "  </tbody>\n",
       "</table>\n",
       "</div>"
      ],
      "text/plain": [
       "        Latitude   Longitude    Max Temp    Humidity  Cloudiness  Wind Speed  \\\n",
       "count  54.000000   54.000000   54.000000   54.000000   54.000000   54.000000   \n",
       "mean   42.862191   -5.964633  273.028333   72.888889   56.037037    4.049074   \n",
       "std    18.537006   92.850997   16.843609   17.436317   40.747711    2.925660   \n",
       "min     7.766900 -165.406400  235.150000   27.000000    0.000000    0.300000   \n",
       "25%    28.335050  -75.366300  262.040000   64.000000   17.750000    1.625000   \n",
       "50%    42.934350   -7.936650  275.150000   76.500000   75.000000    3.560000   \n",
       "75%    59.685625   67.955450  287.452500   84.750000   96.250000    5.620000   \n",
       "max    73.506900  156.125000  299.150000  100.000000  100.000000   12.860000   \n",
       "\n",
       "               Data  \n",
       "count  5.400000e+01  \n",
       "mean   1.611969e+09  \n",
       "std    5.744741e+01  \n",
       "min    1.611969e+09  \n",
       "25%    1.611969e+09  \n",
       "50%    1.611969e+09  \n",
       "75%    1.611969e+09  \n",
       "max    1.611969e+09  "
      ]
     },
     "execution_count": 17,
     "metadata": {},
     "output_type": "execute_result"
    }
   ],
   "source": [
    "northern_df=filter_data_df.loc[:,'Latitude']>=0\n",
    "filter_northern_df=filter_data_df.loc[northern_df, :]\n",
    "filter_northern_df.describe()\n",
    "      \n"
   ]
  },
  {
   "cell_type": "code",
   "execution_count": 18,
   "metadata": {},
   "outputs": [
    {
     "data": {
      "text/html": [
       "<div>\n",
       "<style scoped>\n",
       "    .dataframe tbody tr th:only-of-type {\n",
       "        vertical-align: middle;\n",
       "    }\n",
       "\n",
       "    .dataframe tbody tr th {\n",
       "        vertical-align: top;\n",
       "    }\n",
       "\n",
       "    .dataframe thead th {\n",
       "        text-align: right;\n",
       "    }\n",
       "</style>\n",
       "<table border=\"1\" class=\"dataframe\">\n",
       "  <thead>\n",
       "    <tr style=\"text-align: right;\">\n",
       "      <th></th>\n",
       "      <th>Latitude</th>\n",
       "      <th>Longitude</th>\n",
       "      <th>Max Temp</th>\n",
       "      <th>Humidity</th>\n",
       "      <th>Cloudiness</th>\n",
       "      <th>Wind Speed</th>\n",
       "      <th>Data</th>\n",
       "    </tr>\n",
       "  </thead>\n",
       "  <tbody>\n",
       "    <tr>\n",
       "      <th>count</th>\n",
       "      <td>37.000000</td>\n",
       "      <td>37.000000</td>\n",
       "      <td>37.000000</td>\n",
       "      <td>37.000000</td>\n",
       "      <td>37.000000</td>\n",
       "      <td>37.000000</td>\n",
       "      <td>3.700000e+01</td>\n",
       "    </tr>\n",
       "    <tr>\n",
       "      <th>mean</th>\n",
       "      <td>-26.058357</td>\n",
       "      <td>11.109330</td>\n",
       "      <td>294.456757</td>\n",
       "      <td>75.918919</td>\n",
       "      <td>49.378378</td>\n",
       "      <td>3.437838</td>\n",
       "      <td>1.611969e+09</td>\n",
       "    </tr>\n",
       "    <tr>\n",
       "      <th>std</th>\n",
       "      <td>14.771006</td>\n",
       "      <td>99.523881</td>\n",
       "      <td>6.008540</td>\n",
       "      <td>15.848902</td>\n",
       "      <td>41.942654</td>\n",
       "      <td>3.010827</td>\n",
       "      <td>6.749611e+01</td>\n",
       "    </tr>\n",
       "    <tr>\n",
       "      <th>min</th>\n",
       "      <td>-54.800000</td>\n",
       "      <td>-175.200000</td>\n",
       "      <td>279.150000</td>\n",
       "      <td>22.000000</td>\n",
       "      <td>0.000000</td>\n",
       "      <td>0.450000</td>\n",
       "      <td>1.611969e+09</td>\n",
       "    </tr>\n",
       "    <tr>\n",
       "      <th>25%</th>\n",
       "      <td>-34.532200</td>\n",
       "      <td>-70.916700</td>\n",
       "      <td>291.530000</td>\n",
       "      <td>70.000000</td>\n",
       "      <td>7.000000</td>\n",
       "      <td>1.410000</td>\n",
       "      <td>1.611969e+09</td>\n",
       "    </tr>\n",
       "    <tr>\n",
       "      <th>50%</th>\n",
       "      <td>-26.785200</td>\n",
       "      <td>20.040300</td>\n",
       "      <td>294.590000</td>\n",
       "      <td>77.000000</td>\n",
       "      <td>46.000000</td>\n",
       "      <td>2.300000</td>\n",
       "      <td>1.611969e+09</td>\n",
       "    </tr>\n",
       "    <tr>\n",
       "      <th>75%</th>\n",
       "      <td>-15.716700</td>\n",
       "      <td>102.265500</td>\n",
       "      <td>299.150000</td>\n",
       "      <td>84.000000</td>\n",
       "      <td>91.000000</td>\n",
       "      <td>4.120000</td>\n",
       "      <td>1.611969e+09</td>\n",
       "    </tr>\n",
       "    <tr>\n",
       "      <th>max</th>\n",
       "      <td>-0.739300</td>\n",
       "      <td>170.503600</td>\n",
       "      <td>305.150000</td>\n",
       "      <td>100.000000</td>\n",
       "      <td>100.000000</td>\n",
       "      <td>11.830000</td>\n",
       "      <td>1.611969e+09</td>\n",
       "    </tr>\n",
       "  </tbody>\n",
       "</table>\n",
       "</div>"
      ],
      "text/plain": [
       "        Latitude   Longitude    Max Temp    Humidity  Cloudiness  Wind Speed  \\\n",
       "count  37.000000   37.000000   37.000000   37.000000   37.000000   37.000000   \n",
       "mean  -26.058357   11.109330  294.456757   75.918919   49.378378    3.437838   \n",
       "std    14.771006   99.523881    6.008540   15.848902   41.942654    3.010827   \n",
       "min   -54.800000 -175.200000  279.150000   22.000000    0.000000    0.450000   \n",
       "25%   -34.532200  -70.916700  291.530000   70.000000    7.000000    1.410000   \n",
       "50%   -26.785200   20.040300  294.590000   77.000000   46.000000    2.300000   \n",
       "75%   -15.716700  102.265500  299.150000   84.000000   91.000000    4.120000   \n",
       "max    -0.739300  170.503600  305.150000  100.000000  100.000000   11.830000   \n",
       "\n",
       "               Data  \n",
       "count  3.700000e+01  \n",
       "mean   1.611969e+09  \n",
       "std    6.749611e+01  \n",
       "min    1.611969e+09  \n",
       "25%    1.611969e+09  \n",
       "50%    1.611969e+09  \n",
       "75%    1.611969e+09  \n",
       "max    1.611969e+09  "
      ]
     },
     "execution_count": 18,
     "metadata": {},
     "output_type": "execute_result"
    }
   ],
   "source": [
    "southern_df = filter_data_df.loc[:,'Latitude']<0\n",
    "filter_southern_df=filter_data_df.loc[southern_df, :]\n",
    "filter_southern_df.describe()"
   ]
  },
  {
   "cell_type": "markdown",
   "metadata": {},
   "source": [
    "## Linear Regression"
   ]
  },
  {
   "cell_type": "markdown",
   "metadata": {},
   "source": [
    "####  Northern Hemisphere - Max Temp vs. Latitude Linear Regression"
   ]
  },
  {
   "cell_type": "code",
   "execution_count": 19,
   "metadata": {},
   "outputs": [
    {
     "name": "stdout",
     "output_type": "stream",
     "text": [
      "The r-squared is: 0.6845951638903245\n"
     ]
    },
    {
     "data": {
      "image/png": "[encoded data removed]",
      "text/plain": [
       "<Figure size 432x288 with 1 Axes>"
      ]
     },
     "metadata": {
      "needs_background": "light"
     },
     "output_type": "display_data"
    }
   ],
   "source": [
    "x_values = filter_northern_df['Latitude']\n",
    "y_values = filter_northern_df['Max Temp']\n",
    "(slope, intercept, rvalue, pvalue, stderr) = linregress(x_values, y_values)\n",
    "regress_values = x_values * slope + intercept\n",
    "line_eq = \"y = \" + str(round(slope,2)) + \"x + \" + str(round(intercept,2))\n",
    "plt.scatter(x_values,y_values)\n",
    "plt.plot(x_values,regress_values,\"r-\")\n",
    "plt.annotate(line_eq,(100,250),fontsize=15,color=\"red\")\n",
    "plt.xlabel('Latitude')\n",
    "plt.ylabel('Max Temp')\n",
    "print(f\"The r-squared is: {rvalue**2}\")\n",
    "plt.grid(True)\n",
    "plt.show()\n"
   ]
  },
  {
   "cell_type": "markdown",
   "metadata": {},
   "source": [
    "####  Southern Hemisphere - Max Temp vs. Latitude Linear Regression"
   ]
  },
  {
   "cell_type": "code",
   "execution_count": 145,
   "metadata": {},
   "outputs": [
    {
     "name": "stdout",
     "output_type": "stream",
     "text": [
      "The r-squared is: 0.5232468873460985\n"
     ]
    },
    {
     "data": {
      "image/png": "[encoded data removed]",
      "text/plain": [
       "<Figure size 432x288 with 1 Axes>"
      ]
     },
     "metadata": {
      "needs_background": "light"
     },
     "output_type": "display_data"
    }
   ],
   "source": [
    "x_values = filter_southern_df['Latitude']\n",
    "y_values = filter_southern_df['Max Temp']\n",
    "(slope, intercept, rvalue, pvalue, stderr) = linregress(x_values, y_values)\n",
    "regress_values = x_values * slope + intercept\n",
    "line_eq = \"y = \" + str(round(slope,2)) + \"x + \" + str(round(intercept,2))\n",
    "plt.scatter(x_values,y_values)\n",
    "plt.plot(x_values,regress_values,\"r-\")\n",
    "plt.annotate(line_eq,(0,50),fontsize=15,color=\"red\")\n",
    "plt.xlabel('Southern Latitude')\n",
    "plt.ylabel('Max Temp')\n",
    "print(f\"The r-squared is: {rvalue**2}\")\n",
    "plt.grid(True)\n",
    "plt.show()"
   ]
  },
  {
   "cell_type": "markdown",
   "metadata": {},
   "source": [
    "####  Northern Hemisphere - Humidity (%) vs. Latitude Linear Regression"
   ]
  },
  {
   "cell_type": "code",
   "execution_count": 20,
   "metadata": {},
   "outputs": [
    {
     "name": "stdout",
     "output_type": "stream",
     "text": [
      "The r-squared is: 0.16165666960549782\n"
     ]
    },
    {
     "data": {
      "image/png": "[encoded data removed]",
      "text/plain": [
       "<Figure size 432x288 with 1 Axes>"
      ]
     },
     "metadata": {
      "needs_background": "light"
     },
     "output_type": "display_data"
    }
   ],
   "source": [
    "x_values = filter_northern_df['Latitude']\n",
    "y_values = filter_northern_df['Humidity']\n",
    "(slope, intercept, rvalue, pvalue, stderr) = linregress(x_values, y_values)\n",
    "regress_values = x_values * slope + intercept\n",
    "line_eq = \"y = \" + str(round(slope,2)) + \"x + \" + str(round(intercept,2))\n",
    "plt.scatter(x_values,y_values)\n",
    "plt.plot(x_values,regress_values,\"r-\")\n",
    "plt.annotate(line_eq,(15,50),fontsize=15,color=\"red\")\n",
    "plt.xlabel('Latitude')\n",
    "plt.ylabel('Humidity')\n",
    "print(f\"The r-squared is: {rvalue**2}\")\n",
    "plt.grid(True)\n",
    "plt.show()"
   ]
  },
  {
   "cell_type": "markdown",
   "metadata": {},
   "source": [
    "####  Southern Hemisphere - Humidity (%) vs. Latitude Linear Regression"
   ]
  },
  {
   "cell_type": "code",
   "execution_count": 21,
   "metadata": {},
   "outputs": [
    {
     "name": "stdout",
     "output_type": "stream",
     "text": [
      "The r-squared is: 0.05933866823856939\n"
     ]
    },
    {
     "data": {
      "image/png": "[encoded data removed]",
      "text/plain": [
       "<Figure size 432x288 with 1 Axes>"
      ]
     },
     "metadata": {
      "needs_background": "light"
     },
     "output_type": "display_data"
    }
   ],
   "source": [
    "x_values = filter_southern_df['Latitude']\n",
    "y_values = filter_southern_df['Humidity']\n",
    "(slope, intercept, rvalue, pvalue, stderr) = linregress(x_values, y_values)\n",
    "regress_values = x_values * slope + intercept\n",
    "line_eq = \"y = \" + str(round(slope,2)) + \"x + \" + str(round(intercept,2))\n",
    "plt.scatter(x_values,y_values)\n",
    "plt.plot(x_values,regress_values,\"r-\")\n",
    "plt.annotate(line_eq,(0,50),fontsize=15,color=\"red\")\n",
    "plt.xlabel('Southern Latitude')\n",
    "plt.ylabel('Humidity')\n",
    "print(f\"The r-squared is: {rvalue**2}\")\n",
    "plt.grid(True)\n",
    "plt.show()"
   ]
  },
  {
   "cell_type": "markdown",
   "metadata": {},
   "source": [
    "####  Northern Hemisphere - Cloudiness (%) vs. Latitude Linear Regression"
   ]
  },
  {
   "cell_type": "code",
   "execution_count": 22,
   "metadata": {},
   "outputs": [
    {
     "name": "stdout",
     "output_type": "stream",
     "text": [
      "The r-squared is: 0.05009134557072153\n"
     ]
    },
    {
     "data": {
      "image/png": "[encoded data removed]",
      "text/plain": [
       "<Figure size 432x288 with 1 Axes>"
      ]
     },
     "metadata": {
      "needs_background": "light"
     },
     "output_type": "display_data"
    }
   ],
   "source": [
    "x_values = filter_northern_df['Latitude']\n",
    "y_values = filter_northern_df['Cloudiness']\n",
    "(slope, intercept, rvalue, pvalue, stderr) = linregress(x_values, y_values)\n",
    "regress_values = x_values * slope + intercept\n",
    "line_eq = \"y = \" + str(round(slope,2)) + \"x + \" + str(round(intercept,2))\n",
    "plt.scatter(x_values,y_values)\n",
    "plt.plot(x_values,regress_values,\"r-\")\n",
    "plt.annotate(line_eq,(15,50),fontsize=15,color=\"red\")\n",
    "plt.xlabel('Latitude')\n",
    "plt.ylabel('Cloudiness')\n",
    "print(f\"The r-squared is: {rvalue**2}\")\n",
    "plt.grid(True)\n",
    "plt.show()"
   ]
  },
  {
   "cell_type": "markdown",
   "metadata": {},
   "source": [
    "####  Southern Hemisphere - Cloudiness (%) vs. Latitude Linear Regression"
   ]
  },
  {
   "cell_type": "code",
   "execution_count": 23,
   "metadata": {},
   "outputs": [
    {
     "name": "stdout",
     "output_type": "stream",
     "text": [
      "The r-squared is: 0.02551182432724452\n"
     ]
    },
    {
     "data": {
      "image/png": "[encoded data removed]",
      "text/plain": [
       "<Figure size 432x288 with 1 Axes>"
      ]
     },
     "metadata": {
      "needs_background": "light"
     },
     "output_type": "display_data"
    }
   ],
   "source": [
    "x_values = filter_southern_df['Latitude']\n",
    "y_values = filter_southern_df['Cloudiness']\n",
    "(slope, intercept, rvalue, pvalue, stderr) = linregress(x_values, y_values)\n",
    "regress_values = x_values * slope + intercept\n",
    "line_eq = \"y = \" + str(round(slope,2)) + \"x + \" + str(round(intercept,2))\n",
    "plt.scatter(x_values,y_values)\n",
    "plt.plot(x_values,regress_values,\"r-\")\n",
    "plt.annotate(line_eq,(0,50),fontsize=15,color=\"red\")\n",
    "plt.xlabel('Southern Latitude')\n",
    "plt.ylabel('Cloudiness')\n",
    "print(f\"The r-squared is: {rvalue**2}\")\n",
    "plt.grid(True)\n",
    "plt.show()"
   ]
  },
  {
   "cell_type": "markdown",
   "metadata": {},
   "source": [
    "####  Northern Hemisphere - Wind Speed (mph) vs. Latitude Linear Regression"
   ]
  },
  {
   "cell_type": "code",
   "execution_count": 24,
   "metadata": {},
   "outputs": [
    {
     "name": "stdout",
     "output_type": "stream",
     "text": [
      "The r-squared is: 0.024069523786505457\n"
     ]
    },
    {
     "data": {
      "image/png": "[encoded data removed]",
      "text/plain": [
       "<Figure size 432x288 with 1 Axes>"
      ]
     },
     "metadata": {
      "needs_background": "light"
     },
     "output_type": "display_data"
    }
   ],
   "source": [
    "x_values = filter_northern_df['Latitude']\n",
    "y_values = filter_northern_df['Wind Speed']\n",
    "(slope, intercept, rvalue, pvalue, stderr) = linregress(x_values, y_values)\n",
    "regress_values = x_values * slope + intercept\n",
    "line_eq = \"y = \" + str(round(slope,2)) + \"x + \" + str(round(intercept,2))\n",
    "plt.scatter(x_values,y_values)\n",
    "plt.plot(x_values,regress_values,\"r-\")\n",
    "plt.annotate(line_eq,(0,5),fontsize=15,color=\"red\")\n",
    "plt.xlabel('Latitude')\n",
    "plt.ylabel('Wind Speed')\n",
    "print(f\"The r-squared is: {rvalue**2}\")\n",
    "plt.grid(True)\n",
    "plt.show()"
   ]
  },
  {
   "cell_type": "markdown",
   "metadata": {},
   "source": [
    "####  Southern Hemisphere - Wind Speed (mph) vs. Latitude Linear Regression"
   ]
  },
  {
   "cell_type": "code",
   "execution_count": 25,
   "metadata": {},
   "outputs": [
    {
     "name": "stdout",
     "output_type": "stream",
     "text": [
      "The r-squared is: 0.06289610680599167\n"
     ]
    },
    {
     "data": {
      "image/png": "[encoded data removed]",
      "text/plain": [
       "<Figure size 432x288 with 1 Axes>"
      ]
     },
     "metadata": {
      "needs_background": "light"
     },
     "output_type": "display_data"
    },
    {
     "data": {
      "text/plain": [
       "<Figure size 432x288 with 0 Axes>"
      ]
     },
     "metadata": {},
     "output_type": "display_data"
    }
   ],
   "source": [
    "x_values = filter_southern_df['Latitude']\n",
    "y_values = filter_southern_df['Wind Speed']\n",
    "(slope, intercept, rvalue, pvalue, stderr) = linregress(x_values, y_values)\n",
    "regress_values = x_values * slope + intercept\n",
    "line_eq = \"y = \" + str(round(slope,2)) + \"x + \" + str(round(intercept,2))\n",
    "plt.scatter(x_values,y_values)\n",
    "plt.plot(x_values,regress_values,\"r-\")\n",
    "plt.annotate(line_eq,(0,10),fontsize=15,color=\"red\")\n",
    "plt.xlabel('Southern Latitude')\n",
    "plt.ylabel('Wind Speed')\n",
    "print(f\"The r-squared is: {rvalue**2}\")\n",
    "plt.grid(True)\n",
    "plt.show()\n",
    "plt.savefig('..\\output_data\\SH_Wind_Speed.png')"
   ]
  },
  {
   "cell_type": "code",
   "execution_count": null,
   "metadata": {},
   "outputs": [],
   "source": []
  }
 ],
 "metadata": {
  "anaconda-cloud": {},
  "kernel_info": {
   "name": "python3"
  },
  "kernelspec": {
   "display_name": "Python 3",
   "language": "python",
   "name": "python3"
  },
  "language_info": {
   "codemirror_mode": {
    "name": "ipython",
    "version": 3
   },
   "file_extension": ".py",
   "mimetype": "text/x-python",
   "name": "python",
   "nbconvert_exporter": "python",
   "pygments_lexer": "ipython3",
   "version": "3.8.5"
  },
  "latex_envs": {
   "LaTeX_envs_menu_present": true,
   "autoclose": false,
   "autocomplete": true,
   "bibliofile": "biblio.bib",
   "cite_by": "apalike",
   "current_citInitial": 1,
   "eqLabelWithNumbers": true,
   "eqNumInitial": 1,
   "hotkeys": {
    "equation": "Ctrl-E",
    "itemize": "Ctrl-I"
   },
   "labels_anchors": false,
   "latex_user_defs": false,
   "report_style_numbering": false,
   "user_envs_cfg": false
  },
  "nteract": {
   "version": "0.12.3"
  }
 },
 "nbformat": 4,
 "nbformat_minor": 2
}
